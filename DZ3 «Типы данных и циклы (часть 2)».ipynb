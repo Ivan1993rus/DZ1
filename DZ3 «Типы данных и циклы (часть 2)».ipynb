{
 "cells": [
  {
   "cell_type": "code",
   "execution_count": 77,
   "id": "5653cbe5-a4f1-42d0-82d8-f8ede9f31e9b",
   "metadata": {},
   "outputs": [
    {
     "name": "stdout",
     "output_type": "stream",
     "text": [
      "{98, 35, 213, 54, 119, 15}\n"
     ]
    }
   ],
   "source": [
    "# 1 вопрос\n",
    "ids = {'user1': [213, 213, 213, 15, 213], \n",
    "       'user2': [54, 54, 119, 119, 119], \n",
    "       'user3': [213, 98, 98, 35]}\n",
    "geo_teg = set()\n",
    "for g_t in ids.values():\n",
    "    geo_teg = geo_teg.union(set(g_t))\n",
    "print(geo_teg)\n",
    "\n",
    "\n",
    "\n"
   ]
  },
  {
   "cell_type": "code",
   "execution_count": 147,
   "id": "e8b82628-93ed-49ce-98dc-086b704e0015",
   "metadata": {},
   "outputs": [
    {
     "name": "stdout",
     "output_type": "stream",
     "text": [
      "Поисковых запросов, содержащих 2 слов(а): 42.86 %\n",
      "Поисковых запросов, содержащих 3 слов(а): 57.14 %\n"
     ]
    }
   ],
   "source": [
    "#2 вопрос\n",
    "queries = [\n",
    "    'смотреть сериалы онлайн',\n",
    "    'новости спорта',\n",
    "    'афиша кино',\n",
    "    'курс доллара',\n",
    "    'сериалы этим летом',\n",
    "    'курс по питону',\n",
    "    'сериалы про спорт',\n",
    "]\n",
    "words = []\n",
    "\n",
    "\n",
    "for item in queries:\n",
    "    words.append(len(item.split()))\n",
    "    \n",
    "a = 0\n",
    "while a <= max(words):\n",
    "    if words.count(a) > 0:\n",
    "\n",
    "        print('Поисковых запросов, содержащих', a, 'слов(а):', round(words.count(a)*100/len(words), 2,), '%')\n",
    "    a += 1\n"
   ]
  },
  {
   "cell_type": "code",
   "execution_count": null,
   "id": "9d8a2cc6-3d39-42cc-bc5b-cd94bb10c377",
   "metadata": {},
   "outputs": [],
   "source": []
  },
  {
   "cell_type": "code",
   "execution_count": 221,
   "id": "de27837c-9e47-4603-a700-58358a08a991",
   "metadata": {},
   "outputs": [
    {
     "data": {
      "text/plain": [
       "{'vk': {'revenue': 103, 'cost': 98, 'ROI': 5.1},\n",
       " 'yandex': {'revenue': 179, 'cost': 153, 'ROI': 16.99},\n",
       " 'facebook': {'revenue': 103, 'cost': 110, 'ROI': -6.36},\n",
       " 'adwords': {'revenue': 35, 'cost': 34, 'ROI': 2.94},\n",
       " 'twitter': {'revenue': 11, 'cost': 24, 'ROI': -54.17}}"
      ]
     },
     "execution_count": 221,
     "metadata": {},
     "output_type": "execute_result"
    }
   ],
   "source": [
    "#3 вопрос\n",
    "results = {\n",
    "    'vk': {'revenue': 103, 'cost': 98},\n",
    "    'yandex': {'revenue': 179, 'cost': 153},\n",
    "    'facebook': {'revenue': 103, 'cost': 110},\n",
    "    'adwords': {'revenue': 35, 'cost': 34},\n",
    "    'twitter': {'revenue': 11, 'cost': 24},\n",
    "}\n",
    "results_dict = {}\n",
    "for key, values in results.items():\n",
    "    results_dict.update({ key:{ 'revenue':values['revenue'], 'cost':values['cost'], 'ROI':round((values['revenue']/ values['cost'] - 1) * 100, 2)}})\n",
    "results_dict"
   ]
  },
  {
   "cell_type": "code",
   "execution_count": 259,
   "id": "25334d4b-339b-4cf2-8f6c-18560ce6d56f",
   "metadata": {},
   "outputs": [
    {
     "name": "stdout",
     "output_type": "stream",
     "text": [
      "Максимальный объем продаж на рекламном канале: vk\n"
     ]
    }
   ],
   "source": [
    "#4 вопрос\n",
    "stats = {'facebook': 55, 'yandex': 115, 'vk': 120, 'google': 99, 'email': 42, 'ok': 98}\n",
    "max_key = max(stats, key=stats.get)\n",
    "\n",
    "print('Максимальный объем продаж на рекламном канале:', max_key)\n",
    "    "
   ]
  },
  {
   "cell_type": "code",
   "execution_count": 275,
   "id": "abcf7e1a-6fe8-4563-90ba-d3ac6f6d61b8",
   "metadata": {},
   "outputs": [
    {
     "name": "stdout",
     "output_type": "stream",
     "text": [
      "Максимальный объем продаж на рекламном канале: vk\n"
     ]
    }
   ],
   "source": [
    "stats = {'facebook': 55, 'yandex': 115, 'vk': 120, 'google': 99, 'email': 42, 'ok': 98}\n",
    "for key, value in stats.items():\n",
    "    if value == max(stats.values()):\n",
    "        print('Максимальный объем продаж на рекламном канале:', key)"
   ]
  },
  {
   "cell_type": "code",
   "execution_count": null,
   "id": "ca1cd137-652a-4af2-b313-a2ca1eb3583d",
   "metadata": {},
   "outputs": [],
   "source": []
  }
 ],
 "metadata": {
  "kernelspec": {
   "display_name": "Python 3 (ipykernel)",
   "language": "python",
   "name": "python3"
  },
  "language_info": {
   "codemirror_mode": {
    "name": "ipython",
    "version": 3
   },
   "file_extension": ".py",
   "mimetype": "text/x-python",
   "name": "python",
   "nbconvert_exporter": "python",
   "pygments_lexer": "ipython3",
   "version": "3.12.4"
  }
 },
 "nbformat": 4,
 "nbformat_minor": 5
}
