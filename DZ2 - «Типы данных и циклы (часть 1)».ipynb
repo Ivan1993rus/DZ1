{
 "cells": [
  {
   "cell_type": "code",
   "execution_count": 705,
   "id": "507da8a3-d2de-4efc-abd5-b8ca0324a613",
   "metadata": {},
   "outputs": [
    {
     "name": "stdin",
     "output_type": "stream",
     "text": [
      " ouk\n"
     ]
    },
    {
     "name": "stdout",
     "output_type": "stream",
     "text": [
      "u\n"
     ]
    }
   ],
   "source": [
    "#1 задание\n",
    "word = input()\n",
    "if len(word)%2 !=0:\n",
    "    print(word[int(len(word)/2)])\n",
    "lenght = len(word)\n",
    "middle = lenght//2\n",
    "if lenght % 2 == 0:\n",
    "    print (word[middle-1:middle+1])\n"
   ]
  },
  {
   "cell_type": "code",
   "execution_count": 707,
   "id": "305cccc1-9ef7-4c64-8a8d-ddcb5ddd5e0c",
   "metadata": {
    "scrolled": true
   },
   "outputs": [
    {
     "name": "stdin",
     "output_type": "stream",
     "text": [
      "Введите значение 5\n",
      "Введите значение 6\n",
      "Введите значение 4\n",
      "Введите значение 0\n"
     ]
    },
    {
     "name": "stdout",
     "output_type": "stream",
     "text": [
      "10\n"
     ]
    }
   ],
   "source": [
    "#2 задание\n",
    "numbers = int(input(\"Введите значение\"))\n",
    "sum_num = []\n",
    "while numbers != 0:\n",
    "    numbers = int(input(\"Введите значение\"))\n",
    "    sum_num.append(numbers)\n",
    "print(sum(sum_num))"
   ]
  },
  {
   "cell_type": "code",
   "execution_count": 425,
   "id": "84d00322-ca90-4e28-a6d0-d09605c955b8",
   "metadata": {},
   "outputs": [
    {
     "name": "stdout",
     "output_type": "stream",
     "text": [
      "Идеальные пары:\n",
      "Alex и Emma\n",
      "Arthur и Kate\n",
      "John и Kira\n",
      "Peter и Liza\n",
      "Richard и Trisha\n"
     ]
    }
   ],
   "source": [
    "# 3 задание\n",
    "boys = ['Peter', 'Alex', 'John', 'Arthur', 'Richard']\n",
    "girls = ['Kate', 'Liza', 'Kira', 'Emma','Trisha']\n",
    "if len(boys) != len(girls):\n",
    "    print('Внимание, кто-то может остаться без пары!')\n",
    "else:\n",
    "    boys.sort()\n",
    "    girls.sort()\n",
    "    print('Идеальные пары:')\n",
    "    for b,g in zip(boys, girls):\n",
    "        print(b,'и',g)\n",
    "    \n",
    "\n",
    "    "
   ]
  },
  {
   "cell_type": "code",
   "execution_count": null,
   "id": "cd5daeb5-d9ec-43d4-a27a-9c1449511d98",
   "metadata": {},
   "outputs": [],
   "source": []
  },
  {
   "cell_type": "code",
   "execution_count": 711,
   "id": "a93c271e-f2fa-4f1a-95f8-8ed3680d5926",
   "metadata": {},
   "outputs": [
    {
     "name": "stdout",
     "output_type": "stream",
     "text": [
      "Таиланд - 23.9 C\n",
      "Германия - 13.8 C\n",
      "Россия - 3.7 C\n",
      "Польша - 12.0 C\n"
     ]
    }
   ],
   "source": [
    "# 4 задание\n",
    "countries_temperature = [\n",
    "    ['Таиланд', [75.2, 77, 78.8, 73.4, 68, 75.2, 77]],\n",
    "    ['Германия', [57.2, 55.4, 59, 59, 53.6]],\n",
    "    ['Россия', [35.6, 37.4, 39.2, 41, 42.8, 39.2, 35.6]],\n",
    "    ['Польша', [50, 50, 53.6, 57.2, 55.4, 55.4]]\n",
    "]\n",
    "for c_t in countries_temperature:\n",
    "    print(c_t[0], '-', round((sum(c_t[1]) / len(c_t[1]) - 32) / 1.8, 1), 'C')   \n",
    "    "
   ]
  },
  {
   "cell_type": "code",
   "execution_count": null,
   "id": "96829f41-e651-4d7b-a17b-18d710c60f4b",
   "metadata": {},
   "outputs": [],
   "source": []
  }
 ],
 "metadata": {
  "kernelspec": {
   "display_name": "Python 3 (ipykernel)",
   "language": "python",
   "name": "python3"
  },
  "language_info": {
   "codemirror_mode": {
    "name": "ipython",
    "version": 3
   },
   "file_extension": ".py",
   "mimetype": "text/x-python",
   "name": "python",
   "nbconvert_exporter": "python",
   "pygments_lexer": "ipython3",
   "version": "3.12.4"
  }
 },
 "nbformat": 4,
 "nbformat_minor": 5
}
