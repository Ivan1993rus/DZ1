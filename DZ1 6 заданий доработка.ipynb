{
 "cells": [
  {
   "cell_type": "code",
   "execution_count": 20,
   "id": "54ee14b4-a2d7-482e-8aa8-acf5065ed52f",
   "metadata": {},
   "outputs": [
    {
     "name": "stdin",
     "output_type": "stream",
     "text": [
      " oukb\n",
      " ou\n"
     ]
    },
    {
     "name": "stdout",
     "output_type": "stream",
     "text": [
      "Фраза 1 длиннее фразы 2\n"
     ]
    }
   ],
   "source": [
    "# 1 задание:\n",
    "phrase_1 = input()\n",
    "phrase_2 = input()\n",
    "if len(phrase_1) > len(phrase_2):\n",
    "    print(\"Фраза 1 длиннее фразы 2\")\n",
    "elif len(phrase_1) < len(phrase_2):\n",
    "    print(\"Фраза 2 длиннее фразы 1\")\n",
    "elif len(phrase_1) == len(phrase_2):\n",
    "    print(\"Фразы равной длины\")"
   ]
  },
  {
   "cell_type": "code",
   "execution_count": 26,
   "id": "dd589811-e83a-493a-8255-6ed4e3b6d822",
   "metadata": {},
   "outputs": [
    {
     "name": "stdin",
     "output_type": "stream",
     "text": [
      " 1600\n"
     ]
    },
    {
     "name": "stdout",
     "output_type": "stream",
     "text": [
      "Високосный\n"
     ]
    }
   ],
   "source": [
    "#2 задание:\n",
    "year = int(input())\n",
    "if (year % 100 == 0) and (year % 400 == 0):\n",
    "    print(\"Високосный\")\n",
    "else:\n",
    "    print(\"Обычный\")"
   ]
  },
  {
   "cell_type": "code",
   "execution_count": 65,
   "id": "08a798a9-42f3-4692-a5a9-824661476608",
   "metadata": {},
   "outputs": [
    {
     "name": "stdin",
     "output_type": "stream",
     "text": [
      "Введите день: 18\n",
      "Введите месяц: июль\n"
     ]
    },
    {
     "name": "stdout",
     "output_type": "stream",
     "text": [
      "Ваш знак зодиака: Рак\n"
     ]
    }
   ],
   "source": [
    "#3 задание:\n",
    "day =  int(input('Введите день:'))\n",
    "month = input ('Введите месяц:')\n",
    "# Определение знака зодиака\n",
    "if (month == \"март\" and day >= 21) or (month == \"апрель\" and day <= 19):\n",
    "    sign = \"Овен\"\n",
    "elif (month == \"апрель\" and day >= 20) or (month == \"май\" and day <= 20):\n",
    "    sign = \"Телец\"\n",
    "elif (month == \"май\" and day >= 21) or (month == \"июнь\" and day <= 21):\n",
    "    sign = \"Близнецы\"\n",
    "elif (month == \"июнь\" and day >= 22) or (month == \"июль\" and day <= 22):\n",
    "    sign = \"Рак\"\n",
    "elif (month == \"июль\" and day >= 23) or (month == \"август\" and day <= 22):\n",
    "    sign = \"Лев\"\n",
    "elif (month == \"август\" and day >= 23) or (month == \"сентябрь\" and day <= 22):\n",
    "    sign = \"Дева\"\n",
    "elif (month == \"сентябрь\" and day >= 23) or (month == \"октябрь\" and day <= 23):\n",
    "    sign = \"Весы\"\n",
    "elif (month == \"октябрь\" and day >= 24) or (month == \"ноябрь\" and day <= 22):\n",
    "    sign = \"Скорпион\"\n",
    "elif (month == \"ноябрь\" and day >= 23) or (month == \"декабрь\" and day <= 21):\n",
    "    sign = \"Стрелец\"\n",
    "elif (month == \"декабрь\" and day >= 22) or (month == \"январь\" and day <= 19):\n",
    "    sign = \"Козерог\"\n",
    "elif (month == \"январь\" and day >= 20) or (month == \"февраль\" and day <= 18):\n",
    "    sign = \"Водолей\"\n",
    "elif (month == \"февраль\" and day >= 19) or (month == \"март\" and day <= 20):\n",
    "    sign = \"Рыбы\"\n",
    "else:\n",
    "    sign = \"Не удалось определить знак зодиака\"\n",
    "\n",
    "print(f\"Ваш знак зодиака: {sign}\")"
   ]
  },
  {
   "cell_type": "code",
   "execution_count": 43,
   "id": "b3a8502e-4d8f-4521-8afa-ffbdf498e4a2",
   "metadata": {},
   "outputs": [
    {
     "name": "stdin",
     "output_type": "stream",
     "text": [
      "( Ширина ) =  201\n",
      "( Длина ) =  10\n",
      "( Высота ) =  15\n"
     ]
    },
    {
     "name": "stdout",
     "output_type": "stream",
     "text": [
      "Упаковка для лыж\n"
     ]
    }
   ],
   "source": [
    "#4 задание:\n",
    "width = int(input(\"( Ширина ) = \"))\n",
    "length = int(input(\"( Длина ) = \"))\n",
    "height = int(input(\"( Высота ) = \"))\n",
    "size = [width, length, height]\n",
    "result = max(size)\n",
    "if result <= 15: # если каждое из трех измерений менее или равно 15 сантиметрам, то выведите на экран \"Коробка №1\";\n",
    "    print(\"Коробка №1\")\n",
    "elif result > 200: #если хотя бы одно из измерений больше 2 метров, то выводите \"Упаковка для лыж\";\n",
    "    print(\"Упаковка для лыж\")\n",
    "elif result > 15 and dins < 50:#если хотя бы одно из измерений больше 15 сантиметров, но менее 50 сантиметров, то выводите \"Коробка №2\";\n",
    "    print(\"Коробка №2\")\n",
    "else: #во всех остальных случаях выводите \"Коробка №3\".\n",
    "    print(\"Коробка №3\")\n",
    "    "
   ]
  },
  {
   "cell_type": "code",
   "execution_count": 61,
   "id": "2bb91c0e-35c8-4667-a524-2bfbcb790cb9",
   "metadata": {},
   "outputs": [
    {
     "name": "stdin",
     "output_type": "stream",
     "text": [
      "Номер билета 123322\n"
     ]
    },
    {
     "name": "stdout",
     "output_type": "stream",
     "text": [
      "Не счастливый билет\n"
     ]
    }
   ],
   "source": [
    "#5 Задание\n",
    "t = input('Номер билета')\n",
    "if int(t[0])+int(t[1])+int(t[2]) == int(t[3])+int(t[4])+int(t[5]):\n",
    "    print(\"Счастливый билет\")\n",
    "else:\n",
    "    print(\"Не счастливый билет\")"
   ]
  },
  {
   "cell_type": "code",
   "execution_count": 13,
   "id": "34b6bd96-3704-43a3-abc6-b3b83d1faefe",
   "metadata": {},
   "outputs": [
    {
     "name": "stdin",
     "output_type": "stream",
     "text": [
      "Введите название фигуры (круг, прямоугольник, треугольник):  круг\n",
      "Введите радиус круга:  20\n"
     ]
    },
    {
     "name": "stdout",
     "output_type": "stream",
     "text": [
      "Площадь круг равна 1256.6370614359173\n"
     ]
    }
   ],
   "source": [
    "import math as M\n",
    "#6 Задание\n",
    "# Выбор фигуры и вызов соответствующей функции \n",
    "figure = input(\"Введите название фигуры (круг, прямоугольник, треугольник): \") \n",
    "if figure == \"круг\": \n",
    "    radius = float(input(\"Введите радиус круга: \")) \n",
    "    area = M.pi * radius ** 2\n",
    "elif figure == \"треугольник\": \n",
    "    a = float(input(\"Сторона а: \")) \n",
    "    b = float(input(\"Сторона b: \"))\n",
    "    c = float(input(\"Сторона c: \"))\n",
    "    s =(a + b + c) / 2\n",
    "    area = (s*(s-a)*(s-b)*(s-c)) ** 0.5 \n",
    "elif figure == \"прямоугольник\": \n",
    "    length = float(input(\"Введите длину прямоугольника: \")) \n",
    "    width = float(input(\"Введите ширину прямоугольника: \")) \n",
    "    area = length * width \n",
    "\n",
    "else: \n",
    "    print(\"Ошибка: неверное название фигуры\") \n",
    " \n",
    "print(\"Площадь\", figure, \"равна\", area)"
   ]
  },
  {
   "cell_type": "code",
   "execution_count": null,
   "id": "a887eba9-c294-4ea3-b1ca-7e5b51c19c52",
   "metadata": {},
   "outputs": [],
   "source": []
  }
 ],
 "metadata": {
  "kernelspec": {
   "display_name": "Python 3 (ipykernel)",
   "language": "python",
   "name": "python3"
  },
  "language_info": {
   "codemirror_mode": {
    "name": "ipython",
    "version": 3
   },
   "file_extension": ".py",
   "mimetype": "text/x-python",
   "name": "python",
   "nbconvert_exporter": "python",
   "pygments_lexer": "ipython3",
   "version": "3.12.4"
  }
 },
 "nbformat": 4,
 "nbformat_minor": 5
}
